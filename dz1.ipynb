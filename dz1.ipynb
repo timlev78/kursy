{
 "cells": [
  {
   "cell_type": "code",
   "execution_count": 3,
   "id": "c14f9a8b",
   "metadata": {},
   "outputs": [
    {
     "name": "stdout",
     "output_type": "stream",
     "text": [
      "Введите первое число: \n",
      "232\n",
      "Введите второе число: \n",
      "21\n",
      "Введите третье число: \n",
      "4354\n",
      "Введите четвёртое число: \n",
      "2\n",
      "Введите пятое число: \n",
      "546456\n",
      "Минимальное число: 2\n"
     ]
    }
   ],
   "source": [
    "num1 = int(input(\"Введите первое число: \\n\"))\n",
    "num2 = int(input(\"Введите второе число: \\n\"))\n",
    "num3 = int(input(\"Введите третье число: \\n\"))\n",
    "num4 = int(input(\"Введите четвёртое число: \\n\"))\n",
    "num5 = int(input(\"Введите пятое число: \\n\"))\n",
    "if num1 < num2:\n",
    "    min_num = num1\n",
    "else:\n",
    "    min_num = num2\n",
    "if num3 < min_num:\n",
    "    min_num = num3\n",
    "if num4 < min_num:\n",
    "    min_num = num4\n",
    "if num5 < min_num:\n",
    "    min_num = num5\n",
    "print(f\"Минимальное число: {min_num}\")"
   ]
  },
  {
   "cell_type": "code",
   "execution_count": null,
   "id": "764a7b0c",
   "metadata": {},
   "outputs": [],
   "source": []
  }
 ],
 "metadata": {
  "kernelspec": {
   "display_name": "Python 3 (ipykernel)",
   "language": "python",
   "name": "python3"
  },
  "language_info": {
   "codemirror_mode": {
    "name": "ipython",
    "version": 3
   },
   "file_extension": ".py",
   "mimetype": "text/x-python",
   "name": "python",
   "nbconvert_exporter": "python",
   "pygments_lexer": "ipython3",
   "version": "3.9.13"
  }
 },
 "nbformat": 4,
 "nbformat_minor": 5
}
